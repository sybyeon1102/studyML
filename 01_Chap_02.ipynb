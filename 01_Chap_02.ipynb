{
 "cells": [
  {
   "cell_type": "markdown",
   "id": "4564a281",
   "metadata": {},
   "source": [
    "#  주피터 노트북에 가상환경 등록하기\n",
    "- https://itsjh.tistory.com/18"
   ]
  },
  {
   "cell_type": "markdown",
   "id": "89327380",
   "metadata": {},
   "source": [
    "# 데이터 다운로드"
   ]
  },
  {
   "cell_type": "code",
   "execution_count": 1,
   "id": "b675cd41",
   "metadata": {},
   "outputs": [],
   "source": [
    "import os, tarfile, urllib"
   ]
  },
  {
   "cell_type": "markdown",
   "id": "bfc59405",
   "metadata": {},
   "source": [
    "- https://github.com/rickiepark/handson-ml2/tree/master/datasets/housing"
   ]
  },
  {
   "cell_type": "code",
   "execution_count": 7,
   "id": "89263d16",
   "metadata": {},
   "outputs": [],
   "source": [
    "DOWNLOAD_ROOT = \"https://raw.githubusercontent.com/ageron/handson-ml2/master/\"\n",
    "HOUSING_PATH = os.path.join(\"datasets\", \"housing\")\n",
    "HOUSING_URL = DOWNLOAD_ROOT + \"datasets/housing/housing.tgz\""
   ]
  },
  {
   "cell_type": "code",
   "execution_count": 14,
   "id": "6fd6db59",
   "metadata": {},
   "outputs": [
    {
     "data": {
      "text/plain": [
       "'https://raw.githubusercontent.com/ageron/handson-ml2/master/datasets/housing/housing.tgz'"
      ]
     },
     "execution_count": 14,
     "metadata": {},
     "output_type": "execute_result"
    }
   ],
   "source": [
    "HOUSING_URL"
   ]
  },
  {
   "cell_type": "code",
   "execution_count": null,
   "id": "2ddcb300",
   "metadata": {},
   "outputs": [],
   "source": []
  },
  {
   "cell_type": "markdown",
   "id": "9f80e933",
   "metadata": {},
   "source": [
    "## [UF] fetch_housing_data()"
   ]
  },
  {
   "cell_type": "code",
   "execution_count": 11,
   "id": "0518b28f",
   "metadata": {},
   "outputs": [],
   "source": [
    "def fetch_housing_data(housing_url=HOUSING_URL, housing_path=HOUSING_PATH):\n",
    "    os.makedirs(housing_path, exist_ok=True)\n",
    "    tgz_path = os.path.join(housing_path, \"housing.tgz\")\n",
    "    urllib.request.urlretrieve(housing_url, tgz_path)\n",
    "    housing_tgz = tarfile.open(tgz_path)\n",
    "    housing_tgz.extractall(path=housing_path)\n",
    "    housing_tgz.close()"
   ]
  },
  {
   "cell_type": "code",
   "execution_count": 19,
   "id": "47470fef",
   "metadata": {},
   "outputs": [],
   "source": [
    "housing_url=HOUSING_URL\n",
    "housing_path=HOUSING_PATH"
   ]
  },
  {
   "cell_type": "code",
   "execution_count": null,
   "id": "6069a92f",
   "metadata": {},
   "outputs": [],
   "source": []
  },
  {
   "cell_type": "markdown",
   "id": "dbe71048",
   "metadata": {},
   "source": [
    "### os.makedirs()"
   ]
  },
  {
   "cell_type": "code",
   "execution_count": 20,
   "id": "625ade7e",
   "metadata": {},
   "outputs": [
    {
     "data": {
      "text/plain": [
       "'datasets\\\\housing'"
      ]
     },
     "execution_count": 20,
     "metadata": {},
     "output_type": "execute_result"
    }
   ],
   "source": [
    "housing_path"
   ]
  },
  {
   "cell_type": "code",
   "execution_count": 21,
   "id": "be66014e",
   "metadata": {},
   "outputs": [],
   "source": [
    "os.makedirs(housing_path, exist_ok=True)"
   ]
  },
  {
   "cell_type": "markdown",
   "id": "d59e727d",
   "metadata": {},
   "source": [
    "- housing_path 경로가 생긴다. 이미 존재하는 경우 exist_ok=True 해주면 에러FileExistsError 안난다."
   ]
  },
  {
   "cell_type": "code",
   "execution_count": null,
   "id": "fbc35ebf",
   "metadata": {},
   "outputs": [],
   "source": []
  },
  {
   "cell_type": "markdown",
   "id": "445667b6",
   "metadata": {},
   "source": [
    "### os.path.join()"
   ]
  },
  {
   "cell_type": "code",
   "execution_count": 22,
   "id": "daf14c98",
   "metadata": {},
   "outputs": [
    {
     "data": {
      "text/plain": [
       "'datasets\\\\housing\\\\housing.tgz'"
      ]
     },
     "execution_count": 22,
     "metadata": {},
     "output_type": "execute_result"
    }
   ],
   "source": [
    "tgz_path = os.path.join(housing_path, \"housing.tgz\")\n",
    "tgz_path"
   ]
  },
  {
   "cell_type": "markdown",
   "id": "bf3b7109",
   "metadata": {},
   "source": [
    "- str들을 경로형식으로 이어준다."
   ]
  },
  {
   "cell_type": "code",
   "execution_count": null,
   "id": "0ff01f02",
   "metadata": {},
   "outputs": [],
   "source": []
  },
  {
   "cell_type": "markdown",
   "id": "113662db",
   "metadata": {},
   "source": [
    "### urllib.request.urlretrieve()"
   ]
  },
  {
   "cell_type": "code",
   "execution_count": 23,
   "id": "74cfe491",
   "metadata": {},
   "outputs": [
    {
     "data": {
      "text/plain": [
       "'https://raw.githubusercontent.com/ageron/handson-ml2/master/datasets/housing/housing.tgz'"
      ]
     },
     "execution_count": 23,
     "metadata": {},
     "output_type": "execute_result"
    }
   ],
   "source": [
    "housing_url"
   ]
  },
  {
   "cell_type": "code",
   "execution_count": 24,
   "id": "9c6b0ccd",
   "metadata": {},
   "outputs": [
    {
     "data": {
      "text/plain": [
       "('datasets\\\\housing\\\\housing.tgz', <http.client.HTTPMessage at 0x2502ec62a90>)"
      ]
     },
     "execution_count": 24,
     "metadata": {},
     "output_type": "execute_result"
    }
   ],
   "source": [
    "urllib.request.urlretrieve(housing_url, tgz_path)"
   ]
  },
  {
   "cell_type": "markdown",
   "id": "91548752",
   "metadata": {},
   "source": [
    "- tgz_path에 파일이 다운받아진다."
   ]
  },
  {
   "cell_type": "code",
   "execution_count": null,
   "id": "84fbb264",
   "metadata": {},
   "outputs": [],
   "source": []
  },
  {
   "cell_type": "markdown",
   "id": "855214fe",
   "metadata": {},
   "source": [
    "### tarfile.Tarfile \n",
    "<a href=\"https://docs.python.org/3/library/tarfile.html\">tarfile documentation</a>"
   ]
  },
  {
   "cell_type": "code",
   "execution_count": 25,
   "id": "4ec6e268",
   "metadata": {},
   "outputs": [],
   "source": [
    "housing_tgz = tarfile.open(tgz_path)"
   ]
  },
  {
   "cell_type": "code",
   "execution_count": 26,
   "id": "cfd49948",
   "metadata": {},
   "outputs": [
    {
     "data": {
      "text/plain": [
       "(tarfile.TarFile, <tarfile.TarFile at 0x2502ec62400>)"
      ]
     },
     "execution_count": 26,
     "metadata": {},
     "output_type": "execute_result"
    }
   ],
   "source": [
    "type(housing_tgz), housing_tgz"
   ]
  },
  {
   "cell_type": "code",
   "execution_count": 27,
   "id": "f102d7e1",
   "metadata": {},
   "outputs": [
    {
     "data": {
      "text/plain": [
       "'datasets\\\\housing'"
      ]
     },
     "execution_count": 27,
     "metadata": {},
     "output_type": "execute_result"
    }
   ],
   "source": [
    "housing_path"
   ]
  },
  {
   "cell_type": "code",
   "execution_count": 28,
   "id": "a3d6553d",
   "metadata": {},
   "outputs": [],
   "source": [
    "housing_tgz.extractall(path=housing_path)"
   ]
  },
  {
   "cell_type": "code",
   "execution_count": 30,
   "id": "559ce20b",
   "metadata": {},
   "outputs": [],
   "source": [
    "housing_tgz.close()"
   ]
  },
  {
   "cell_type": "code",
   "execution_count": null,
   "id": "4b685d16",
   "metadata": {},
   "outputs": [],
   "source": []
  },
  {
   "cell_type": "markdown",
   "id": "df5b02db",
   "metadata": {},
   "source": [
    "## [UF] load_housing_data"
   ]
  },
  {
   "cell_type": "markdown",
   "id": "8de55eba",
   "metadata": {},
   "source": [
    "# ===== pandas ImportError 해결하기 ===== #"
   ]
  },
  {
   "cell_type": "raw",
   "id": "0d50f5c0",
   "metadata": {},
   "source": [
    "import pandas as pd"
   ]
  },
  {
   "cell_type": "raw",
   "id": "959e3c7d",
   "metadata": {},
   "source": [
    "def load_housing_data(housung_path=HOUSING_PATH):\n",
    "    csv_path = os.path.join(housing_path, \"housing.csv\")\n",
    "    return pd.read"
   ]
  },
  {
   "cell_type": "code",
   "execution_count": null,
   "id": "9c574f78",
   "metadata": {},
   "outputs": [],
   "source": []
  },
  {
   "cell_type": "code",
   "execution_count": null,
   "id": "980ca15a",
   "metadata": {},
   "outputs": [],
   "source": []
  },
  {
   "cell_type": "code",
   "execution_count": null,
   "id": "ef43c33a",
   "metadata": {},
   "outputs": [],
   "source": []
  },
  {
   "cell_type": "code",
   "execution_count": null,
   "id": "51e6ed6a",
   "metadata": {},
   "outputs": [],
   "source": []
  },
  {
   "cell_type": "code",
   "execution_count": null,
   "id": "5fcf3019",
   "metadata": {},
   "outputs": [],
   "source": []
  },
  {
   "cell_type": "code",
   "execution_count": null,
   "id": "3024a677",
   "metadata": {},
   "outputs": [],
   "source": []
  },
  {
   "cell_type": "code",
   "execution_count": null,
   "id": "5f8560be",
   "metadata": {},
   "outputs": [],
   "source": []
  },
  {
   "cell_type": "code",
   "execution_count": null,
   "id": "cc1a879d",
   "metadata": {},
   "outputs": [],
   "source": []
  },
  {
   "cell_type": "code",
   "execution_count": null,
   "id": "91e8138d",
   "metadata": {},
   "outputs": [],
   "source": []
  },
  {
   "cell_type": "code",
   "execution_count": null,
   "id": "35d0c9fb",
   "metadata": {},
   "outputs": [],
   "source": []
  },
  {
   "cell_type": "code",
   "execution_count": null,
   "id": "ae672434",
   "metadata": {},
   "outputs": [],
   "source": []
  },
  {
   "cell_type": "code",
   "execution_count": null,
   "id": "090e6e6a",
   "metadata": {},
   "outputs": [],
   "source": []
  },
  {
   "cell_type": "code",
   "execution_count": null,
   "id": "8adb35e0",
   "metadata": {},
   "outputs": [],
   "source": []
  },
  {
   "cell_type": "code",
   "execution_count": null,
   "id": "a5737a90",
   "metadata": {},
   "outputs": [],
   "source": []
  },
  {
   "cell_type": "code",
   "execution_count": null,
   "id": "d757769b",
   "metadata": {},
   "outputs": [],
   "source": []
  },
  {
   "cell_type": "code",
   "execution_count": null,
   "id": "68bff9e8",
   "metadata": {},
   "outputs": [],
   "source": []
  },
  {
   "cell_type": "code",
   "execution_count": null,
   "id": "452ff751",
   "metadata": {},
   "outputs": [],
   "source": []
  },
  {
   "cell_type": "code",
   "execution_count": null,
   "id": "dc659783",
   "metadata": {},
   "outputs": [],
   "source": []
  },
  {
   "cell_type": "code",
   "execution_count": null,
   "id": "3d251787",
   "metadata": {},
   "outputs": [],
   "source": []
  },
  {
   "cell_type": "code",
   "execution_count": null,
   "id": "efbab0fa",
   "metadata": {},
   "outputs": [],
   "source": []
  },
  {
   "cell_type": "code",
   "execution_count": null,
   "id": "6cd2e095",
   "metadata": {},
   "outputs": [],
   "source": []
  },
  {
   "cell_type": "code",
   "execution_count": null,
   "id": "d7077adf",
   "metadata": {},
   "outputs": [],
   "source": []
  },
  {
   "cell_type": "code",
   "execution_count": null,
   "id": "94119470",
   "metadata": {},
   "outputs": [],
   "source": []
  },
  {
   "cell_type": "code",
   "execution_count": null,
   "id": "b01d800c",
   "metadata": {},
   "outputs": [],
   "source": []
  },
  {
   "cell_type": "code",
   "execution_count": null,
   "id": "7110951c",
   "metadata": {},
   "outputs": [],
   "source": []
  }
 ],
 "metadata": {
  "kernelspec": {
   "display_name": "pytheoyeon",
   "language": "python",
   "name": "pytheoyeon"
  },
  "language_info": {
   "codemirror_mode": {
    "name": "ipython",
    "version": 3
   },
   "file_extension": ".py",
   "mimetype": "text/x-python",
   "name": "python",
   "nbconvert_exporter": "python",
   "pygments_lexer": "ipython3",
   "version": "3.9.12"
  },
  "toc": {
   "base_numbering": 1,
   "nav_menu": {},
   "number_sections": true,
   "sideBar": true,
   "skip_h1_title": false,
   "title_cell": "Table of Contents",
   "title_sidebar": "Contents",
   "toc_cell": false,
   "toc_position": {},
   "toc_section_display": true,
   "toc_window_display": true
  }
 },
 "nbformat": 4,
 "nbformat_minor": 5
}
